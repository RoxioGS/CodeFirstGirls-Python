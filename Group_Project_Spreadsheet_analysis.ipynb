{
  "cells": [
    {
      "cell_type": "markdown",
      "metadata": {
        "id": "view-in-github",
        "colab_type": "text"
      },
      "source": [
        "<a href=\"https://colab.research.google.com/github/RoxioGS/CodeFirstGirls-Python/blob/main/Group_Project_Spreadsheet_analysis.ipynb\" target=\"_parent\"><img src=\"https://colab.research.google.com/assets/colab-badge.svg\" alt=\"Open In Colab\"/></a>"
      ]
    },
    {
      "cell_type": "code",
      "execution_count": 2,
      "metadata": {
        "colab": {
          "base_uri": "https://localhost:8080/"
        },
        "id": "sGlhCdLyphao",
        "outputId": "6e9c5d7f-0004-4d37-87a3-8dcabc0163ef"
      },
      "outputs": [
        {
          "output_type": "stream",
          "name": "stdout",
          "text": [
            "Ingrese el número de filas de la matriz: 3\n",
            "Ingrese el número de columnas de la matriz: 2\n",
            "Resultado:\n",
            "[4, 1]\n",
            "[3, 8]\n",
            "[9, 7]\n",
            "Suma de filas:\n",
            "[5, 11, 16]\n",
            "Suma de columnas:\n",
            "[16, 16]\n"
          ]
        }
      ],
      "source": [
        "\n",
        "\n",
        "import random\n",
        "\n",
        "def generar_matriz(filas, columnas):\n",
        "    matriz = [[random.randint(0, 9) for _ in range(columnas)] for _ in range(filas)]\n",
        "    return matriz\n",
        "\n",
        "def imprimir_matriz(matriz):\n",
        "    for fila in matriz:\n",
        "        print(fila)\n",
        "\n",
        "def calcular_suma_filas(matriz):\n",
        "    return [sum(fila) for fila in matriz]\n",
        "\n",
        "def calcular_suma_columnas(matriz):\n",
        "    return [sum(columna) for columna in zip(*matriz)]\n",
        "\n",
        "filas = int(input(\"Ingrese el número de filas de la matriz: \"))\n",
        "columnas = int(input(\"Ingrese el número de columnas de la matriz: \"))\n",
        "\n",
        "matriz = generar_matriz(filas, columnas)\n",
        "\n",
        "print(\"Resultado:\")\n",
        "imprimir_matriz(matriz)\n",
        "\n",
        "suma_filas = calcular_suma_filas(matriz)\n",
        "\n",
        "suma_columnas = calcular_suma_columnas(matriz)\n",
        "\n",
        "print(\"Suma de filas:\")\n",
        "print(suma_filas)\n",
        "\n",
        "print(\"Suma de columnas:\")\n",
        "print(suma_columnas)"
      ]
    },
    {
      "cell_type": "code",
      "execution_count": null,
      "metadata": {
        "colab": {
          "background_save": true,
          "base_uri": "https://localhost:8080/"
        },
        "id": "oFS1eED0t5jo",
        "outputId": "68ed04bd-d417-430f-9452-07b580fa5eca"
      },
      "outputs": [
        {
          "name": "stdout",
          "output_type": "stream",
          "text": [
            "Solo se admiten números (0-50).\n",
            "Solo se admiten números (0-50).\n"
          ]
        }
      ],
      "source": [
        "import random\n",
        "\n",
        "def generar_matriz(filas, columnas):\n",
        "    matriz = [[random.randint(0, 9) for _ in range(columnas)] for _ in range(filas)]\n",
        "    return matriz\n",
        "\n",
        "def imprimir_matriz(matriz):\n",
        "    for fila in matriz:\n",
        "        print(fila)\n",
        "\n",
        "def calcular_suma_filas(matriz):\n",
        "    return [sum(fila) for fila in matriz]\n",
        "\n",
        "def calcular_suma_columnas(matriz):\n",
        "    return [sum(columna) for columna in zip(*matriz)]\n",
        "\n",
        "while True:\n",
        "    try:\n",
        "        filas = int(input(\"Ingrese el número de filas de la matriz (rango 0-9): \"))\n",
        "        columnas = int(input(\"Ingrese el número de columnas de la matriz (rango 0-9): \"))\n",
        "        if 0 <= filas <= 50 and 0 <= columnas <= 50:\n",
        "            break\n",
        "        else:\n",
        "            print(\"Solo se permiten valores entre 0 y 50.\")\n",
        "    except ValueError:\n",
        "        print(\"Solo se admiten números (0-50).\")\n",
        "\n",
        "matriz = generar_matriz(filas, columnas)\n",
        "\n",
        "print(\"Resultado:\")\n",
        "imprimir_matriz(matriz)\n",
        "\n",
        "suma_filas = calcular_suma_filas(matriz)\n",
        "suma_columnas = calcular_suma_columnas(matriz)\n",
        "\n",
        "print(\"Suma de filas:\")\n",
        "print(suma_filas)\n",
        "\n",
        "print(\"Suma de columnas:\")\n",
        "print(suma_columnas)"
      ]
    },
    {
      "cell_type": "code",
      "execution_count": 7,
      "metadata": {
        "colab": {
          "base_uri": "https://localhost:8080/"
        },
        "id": "YYbOUI7OciiO",
        "outputId": "05a46f5f-d05e-4ea6-8f45-2c3558b29d1e"
      },
      "outputs": [
        {
          "output_type": "stream",
          "name": "stdout",
          "text": [
            "Index(['EmployeeID', 'recorddate_key', 'birthdate_key', 'orighiredate_key',\n",
            "       'terminationdate_key', 'age', 'length_of_service', 'city_name',\n",
            "       'department_name', 'job_title', 'store_name', 'gender_short',\n",
            "       'gender_full', 'termreason_desc', 'termtype_desc', 'STATUS_YEAR',\n",
            "       'STATUS', 'BUSINESS_UNIT'],\n",
            "      dtype='object')\n",
            "<class 'pandas.core.frame.DataFrame'>\n",
            "RangeIndex: 49653 entries, 0 to 49652\n",
            "Data columns (total 18 columns):\n",
            " #   Column               Non-Null Count  Dtype \n",
            "---  ------               --------------  ----- \n",
            " 0   EmployeeID           49653 non-null  int64 \n",
            " 1   recorddate_key       49653 non-null  object\n",
            " 2   birthdate_key        49653 non-null  object\n",
            " 3   orighiredate_key     49653 non-null  object\n",
            " 4   terminationdate_key  49653 non-null  object\n",
            " 5   age                  49653 non-null  int64 \n",
            " 6   length_of_service    49653 non-null  int64 \n",
            " 7   city_name            49653 non-null  object\n",
            " 8   department_name      49653 non-null  object\n",
            " 9   job_title            49653 non-null  object\n",
            " 10  store_name           49653 non-null  int64 \n",
            " 11  gender_short         49653 non-null  object\n",
            " 12  gender_full          49653 non-null  object\n",
            " 13  termreason_desc      49653 non-null  object\n",
            " 14  termtype_desc        49653 non-null  object\n",
            " 15  STATUS_YEAR          49653 non-null  int64 \n",
            " 16  STATUS               49653 non-null  object\n",
            " 17  BUSINESS_UNIT        49653 non-null  object\n",
            "dtypes: int64(5), object(13)\n",
            "memory usage: 6.8+ MB\n",
            "None\n",
            "count    49653.000000\n",
            "mean        10.434596\n",
            "std          6.325286\n",
            "min          0.000000\n",
            "25%          5.000000\n",
            "50%         10.000000\n",
            "75%         15.000000\n",
            "max         26.000000\n",
            "Name: length_of_service, dtype: float64\n",
            "                  department_name         job_title  store_name   city_name  \\\n",
            "length_of_service                                                             \n",
            "0                          Bakery             Baker           1  Abbotsford   \n",
            "1                          Bakery             Baker           1  Abbotsford   \n",
            "2                          Bakery             Baker           1  Abbotsford   \n",
            "3                          Bakery             Baker           1  Abbotsford   \n",
            "4                          Bakery             Baker           1  Abbotsford   \n",
            "5                          Bakery             Baker           1  Abbotsford   \n",
            "6                          Bakery             Baker           1  Abbotsford   \n",
            "7                          Bakery             Baker           1  Abbotsford   \n",
            "8                          Bakery             Baker           1  Abbotsford   \n",
            "9                          Bakery             Baker           1  Abbotsford   \n",
            "10                         Bakery             Baker           1  Abbotsford   \n",
            "11                         Bakery             Baker           1  Abbotsford   \n",
            "12                         Bakery             Baker           1  Abbotsford   \n",
            "13                         Bakery             Baker           1  Abbotsford   \n",
            "14                         Bakery             Baker           1  Abbotsford   \n",
            "15                         Bakery             Baker           1  Abbotsford   \n",
            "16                     Accounting  Accounting Clerk           1  Abbotsford   \n",
            "17                     Accounting  Accounting Clerk           1  Abbotsford   \n",
            "18                     Accounting  Accounting Clerk           1  Abbotsford   \n",
            "19                     Accounting  Accounting Clerk           1  Abbotsford   \n",
            "20                     Accounting  Accounting Clerk           1  Abbotsford   \n",
            "21                     Accounting  Accounting Clerk           1  Abbotsford   \n",
            "22                     Accounting  Accounting Clerk           1  Abbotsford   \n",
            "23                     Accounting  Accounting Clerk           1  Abbotsford   \n",
            "24                     Accounting  Accounting Clerk           1  Abbotsford   \n",
            "25                     Accounting  Accounting Clerk           1  Abbotsford   \n",
            "26                      Executive               CEO          18     Nanaimo   \n",
            "\n",
            "                  terminationdate_key termreason_desc  \n",
            "length_of_service                                      \n",
            "0                            1/1/1900  Not Applicable  \n",
            "1                            1/1/1900          Layoff  \n",
            "2                            1/1/1900          Layoff  \n",
            "3                            1/1/1900          Layoff  \n",
            "4                            1/1/1900          Layoff  \n",
            "5                            1/1/1900          Layoff  \n",
            "6                            1/1/1900          Layoff  \n",
            "7                            1/1/1900          Layoff  \n",
            "8                            1/1/1900          Layoff  \n",
            "9                            1/1/1900          Layoff  \n",
            "10                           1/1/1900          Layoff  \n",
            "11                           1/1/1900          Layoff  \n",
            "12                           1/1/1900          Layoff  \n",
            "13                           1/1/1900          Layoff  \n",
            "14                           1/1/1900          Layoff  \n",
            "15                           1/1/1900          Layoff  \n",
            "16                           1/1/1900          Layoff  \n",
            "17                           1/1/1900          Layoff  \n",
            "18                           1/1/1900          Layoff  \n",
            "19                           1/1/1900          Layoff  \n",
            "20                           1/1/1900          Layoff  \n",
            "21                           1/1/1900          Layoff  \n",
            "22                           1/1/1900          Layoff  \n",
            "23                           1/1/1900          Layoff  \n",
            "24                           1/1/1900          Layoff  \n",
            "25                           1/1/1900          Layoff  \n",
            "26                           1/1/1900  Not Applicable  \n",
            "jul 1521.0 3.34% of total\n",
            "nov 1521.0 3.34% of total\n",
            "jan 1521.0 3.34% of total\n",
            "oct 1521.0 3.34% of total\n",
            "aug 1521.0 3.34% of total\n",
            "sep 1521.0 3.34% of total\n",
            "jun 1521.0 3.34% of total\n",
            "apr 1521.0 3.34% of total\n",
            "mar 1521.0 3.34% of total\n",
            "dec 1521.0 3.34% of total\n",
            "may 1521.0 3.34% of total\n",
            "feb 1521.0 3.34% of total\n",
            "Filtered DataFrame:\n",
            "Empty DataFrame\n",
            "Columns: [EmployeeID, recorddate_key, birthdate_key, orighiredate_key, terminationdate_key, age, length_of_service, city_name, department_name, job_title, store_name, gender_short, gender_full, termreason_desc, termtype_desc, STATUS_YEAR, STATUS, BUSINESS_UNIT]\n",
            "Index: []\n"
          ]
        }
      ],
      "source": [
        "import pandas as pd\n",
        "\n",
        "excel_file_path = 'MFG10YearTerminationData.csv'\n",
        "\n",
        "df = pd.read_csv(excel_file_path)\n",
        "print(df.columns)\n",
        "\n",
        "df_info = df.info()\n",
        "print(df_info)\n",
        "print(df.describe()[\"length_of_service\"])\n",
        "\n",
        "grouped_df = df.groupby([\"length_of_service\"]).min()\n",
        "print(grouped_df[[\"department_name\", \"job_title\", \"store_name\", \"city_name\", \"terminationdate_key\", \"termreason_desc\"]])\n",
        "\n",
        "service_length_min = df[\"length_of_service\"].min()\n",
        "service_length_max = df[\"length_of_service\"].max()\n",
        "#for filtering by status:\n",
        "specific_status = \"Resignation\"\n",
        "#for filtering by status:\n",
        "filtered_df = df.loc[df[\"termreason_desc\"] == specific_status]\n",
        "\n",
        "for month, service_length_max in sorted_month_sales:\n",
        "        percentage = (sales / total) * 100\n",
        "        print(month, sales, f\"{percentage:.2f}% of total\")\n",
        "\n",
        "print(\"Filtered DataFrame:\")\n",
        "print(filtered_df)\n"
      ]
    },
    {
      "cell_type": "markdown",
      "metadata": {
        "id": "iuDRLWA3bXJ2"
      },
      "source": [
        "# New Section"
      ]
    },
    {
      "cell_type": "markdown",
      "metadata": {
        "id": "-F3PSuNTOpk4"
      },
      "source": []
    },
    {
      "cell_type": "code",
      "execution_count": null,
      "metadata": {
        "id": "Ue_-4BpTOnnL"
      },
      "outputs": [],
      "source": []
    },
    {
      "cell_type": "code",
      "execution_count": null,
      "metadata": {
        "id": "8a22sLiWOn48"
      },
      "outputs": [],
      "source": []
    },
    {
      "cell_type": "code",
      "execution_count": null,
      "metadata": {
        "id": "UByv321-OoDL"
      },
      "outputs": [],
      "source": []
    },
    {
      "cell_type": "markdown",
      "metadata": {
        "id": "X67K3U3ky-Wj"
      },
      "source": [
        "Additional sources:\n",
        ">For plotting graphs https://www.geeksforgeeks.org/plotting-graph-using-seaborn-python/\n",
        "\n",
        "\n",
        ">Datasets: https://www.kaggle.com/docs/datasets\n",
        "\n",
        "\n"
      ]
    },
    {
      "cell_type": "markdown",
      "metadata": {
        "id": "J9fIuUCXv_tt"
      },
      "source": [
        "Solution:\n",
        ">How to read data from spreadsheet\n",
        "\n",
        "\n",
        ">\n",
        "\n",
        "\n",
        ">How to collect all of the sales from each month into a single list\n",
        "\n",
        "\n",
        "\n",
        ">\n",
        "\n",
        "\n",
        ">Output the total sales across all months\n",
        "\n",
        "\n",
        "\n",
        ">\n",
        "\n",
        "\n",
        "\n"
      ]
    },
    {
      "cell_type": "code",
      "execution_count": null,
      "metadata": {
        "id": "3X8QiDfwATue"
      },
      "outputs": [],
      "source": []
    },
    {
      "cell_type": "markdown",
      "metadata": {
        "id": "yNVMcdM5wXty"
      },
      "source": [
        "How about **SHEETAH** 🐆 (althought that's a leopard!) for a name? Short for Spread**SHEET** **A**nalysis **H**elper *👀*"
      ]
    },
    {
      "cell_type": "code",
      "execution_count": null,
      "metadata": {
        "colab": {
          "base_uri": "https://localhost:8080/"
        },
        "id": "2RF49IGUvJfM",
        "outputId": "974d9722-ad66-49fc-9073-9be5c0d5cc5d"
      },
      "outputs": [
        {
          "name": "stdout",
          "output_type": "stream",
          "text": [
            "jan 6226.0 100.00% of total\n",
            "feb 1521.0 19.63% of total\n",
            "mar 1842.0 19.21% of total\n",
            "apr 2051.0 17.62% of total\n",
            "may 1728.0 12.93% of total\n",
            "jun 2138.0 13.79% of total\n",
            "jul 7479.0 32.54% of total\n",
            "aug 4434.0 16.17% of total\n",
            "sep 3615.0 11.65% of total\n",
            "oct 5472.0 14.99% of total\n",
            "nov 7224.0 16.52% of total\n",
            "dec 1812.0 3.98% of total\n",
            "Yearly total: 45542\n",
            "Lowest performing month: 1521.0\n",
            "Highest performing month: 7479.0\n"
          ]
        }
      ],
      "source": [
        "import csv\n",
        "with open('/content/sales.csv') as csv_file:\n",
        "    spreadsheet = csv.DictReader(csv_file)\n",
        "    sales_list = []\n",
        "    for row in spreadsheet:\n",
        "        month = str(row['month'])\n",
        "        sales = float(row['sales'])\n",
        "        sales_list.append(sales)\n",
        "        total = sum(sales_list)\n",
        "        percentage = (sales / total) * 100\n",
        "        print(month, sales, f\"{percentage:.2f}% of total\")\n",
        "    total = sum(sales_list)\n",
        "    minimum = min(sales_list)\n",
        "    maximum = max(sales_list)\n",
        "    print(\"Yearly total:\", int(total))\n",
        "    print(\"Lowest performing month:\", minimum)\n",
        "    print(\"Highest performing month:\", maximum)\n"
      ]
    },
    {
      "cell_type": "code",
      "execution_count": 6,
      "metadata": {
        "colab": {
          "base_uri": "https://localhost:8080/"
        },
        "id": "SmlVWRl6vTu0",
        "outputId": "881af176-f18d-4bf9-be99-e922dbd330d8"
      },
      "outputs": [
        {
          "output_type": "stream",
          "name": "stdout",
          "text": [
            "Index(['EmployeeID', 'recorddate_key', 'birthdate_key', 'orighiredate_key',\n",
            "       'terminationdate_key', 'age', 'length_of_service', 'city_name',\n",
            "       'department_name', 'job_title', 'store_name', 'gender_short',\n",
            "       'gender_full', 'termreason_desc', 'termtype_desc', 'STATUS_YEAR',\n",
            "       'STATUS', 'BUSINESS_UNIT'],\n",
            "      dtype='object')\n",
            "<class 'pandas.core.frame.DataFrame'>\n",
            "RangeIndex: 49653 entries, 0 to 49652\n",
            "Data columns (total 18 columns):\n",
            " #   Column               Non-Null Count  Dtype \n",
            "---  ------               --------------  ----- \n",
            " 0   EmployeeID           49653 non-null  int64 \n",
            " 1   recorddate_key       49653 non-null  object\n",
            " 2   birthdate_key        49653 non-null  object\n",
            " 3   orighiredate_key     49653 non-null  object\n",
            " 4   terminationdate_key  49653 non-null  object\n",
            " 5   age                  49653 non-null  int64 \n",
            " 6   length_of_service    49653 non-null  int64 \n",
            " 7   city_name            49653 non-null  object\n",
            " 8   department_name      49653 non-null  object\n",
            " 9   job_title            49653 non-null  object\n",
            " 10  store_name           49653 non-null  int64 \n",
            " 11  gender_short         49653 non-null  object\n",
            " 12  gender_full          49653 non-null  object\n",
            " 13  termreason_desc      49653 non-null  object\n",
            " 14  termtype_desc        49653 non-null  object\n",
            " 15  STATUS_YEAR          49653 non-null  int64 \n",
            " 16  STATUS               49653 non-null  object\n",
            " 17  BUSINESS_UNIT        49653 non-null  object\n",
            "dtypes: int64(5), object(13)\n",
            "memory usage: 6.8+ MB\n",
            "None\n",
            "count    49653.000000\n",
            "mean        10.434596\n",
            "std          6.325286\n",
            "min          0.000000\n",
            "25%          5.000000\n",
            "50%         10.000000\n",
            "75%         15.000000\n",
            "max         26.000000\n",
            "Name: length_of_service, dtype: float64\n",
            "                    department_name      job_title  store_name  \\\n",
            "length_of_service                                                \n",
            "0                           Produce  Shelf Stocker          46   \n",
            "1                           Produce  Shelf Stocker          46   \n",
            "2                           Produce  Shelf Stocker          46   \n",
            "3                           Produce  Shelf Stocker          46   \n",
            "4                           Produce  Shelf Stocker          46   \n",
            "5                           Produce  Shelf Stocker          46   \n",
            "6                           Produce  Shelf Stocker          46   \n",
            "7                           Produce  Shelf Stocker          46   \n",
            "8                           Produce  Shelf Stocker          46   \n",
            "9                           Produce  Shelf Stocker          46   \n",
            "10                          Produce  Shelf Stocker          46   \n",
            "11                          Produce  Shelf Stocker          46   \n",
            "12                          Produce  Shelf Stocker          46   \n",
            "13                 Store Management  Store Manager          46   \n",
            "14                 Store Management  Store Manager          46   \n",
            "15                 Store Management  Store Manager          46   \n",
            "16                 Store Management  Store Manager          46   \n",
            "17                         Training      VP Stores          46   \n",
            "18                         Training      VP Stores          46   \n",
            "19                         Training      VP Stores          46   \n",
            "20                         Training      VP Stores          46   \n",
            "21                         Training      VP Stores          46   \n",
            "22                         Training      VP Stores          46   \n",
            "23                         Training      VP Stores          46   \n",
            "24                         Training      VP Stores          46   \n",
            "25                 Store Management      VP Stores          45   \n",
            "26                 Store Management      VP Stores          35   \n",
            "\n",
            "                        city_name terminationdate_key  \n",
            "length_of_service                                      \n",
            "0                   Williams Lake            9/8/2014  \n",
            "1                   Williams Lake            9/8/2014  \n",
            "2                   Williams Lake            9/7/2013  \n",
            "3                   Williams Lake            9/7/2013  \n",
            "4                   Williams Lake            9/7/2013  \n",
            "5                   Williams Lake            9/7/2013  \n",
            "6                   Williams Lake            9/7/2008  \n",
            "7                   Williams Lake            9/7/2008  \n",
            "8                   Williams Lake            9/7/2008  \n",
            "9                   Williams Lake            9/6/2013  \n",
            "10                  Williams Lake            9/6/2013  \n",
            "11                  Williams Lake            9/6/2013  \n",
            "12                  Williams Lake            9/6/2013  \n",
            "13                  Williams Lake            9/6/2013  \n",
            "14                  Williams Lake            9/8/2006  \n",
            "15                  Williams Lake           9/19/2011  \n",
            "16                  Williams Lake            9/9/2010  \n",
            "17                  Williams Lake            9/9/2010  \n",
            "18                  Williams Lake            9/9/2010  \n",
            "19                  Williams Lake            9/9/2010  \n",
            "20                  Williams Lake            9/9/2010  \n",
            "21                  Williams Lake            9/5/2014  \n",
            "22                  Williams Lake            9/5/2014  \n",
            "23                  Williams Lake            9/5/2014  \n",
            "24                  Williams Lake            9/5/2014  \n",
            "25                 West Vancouver            9/4/2015  \n",
            "26                      Vancouver            1/1/1900  \n",
            "Minimum length of service: 0 months\n",
            "Maximum length of service: 26 months\n"
          ]
        }
      ],
      "source": [
        "import pandas as pd\n",
        "excel_file_path ='MFG10YearTerminationData.csv'\n",
        "\n",
        "df = pd.read_csv(excel_file_path)\n",
        "print(df.columns)\n",
        "\n",
        "df_info = df.info()\n",
        "print(df_info)\n",
        "print(df.describe()[\"length_of_service\"])\n",
        "\n",
        "grouped_df = df.groupby([\"length_of_service\"]).max()\n",
        "print(grouped_df[[\"department_name\", \"job_title\", \"store_name\", \"city_name\", \"terminationdate_key\"]])\n",
        "\n",
        "service_length_min = df[\"length_of_service\"].min()\n",
        "service_length_max = df[\"length_of_service\"].max()\n",
        "\n",
        "specific_status = \"Resignation\"\n",
        "# for filtering by status:\n",
        "print(\"Minimum length of service:\", service_length_min, \"months\")\n",
        "print(\"Maximum length of service:\", service_length_max, \"months\")\n"
      ]
    }
  ],
  "metadata": {
    "colab": {
      "provenance": [],
      "include_colab_link": true
    },
    "kernelspec": {
      "display_name": "Python 3",
      "name": "python3"
    },
    "language_info": {
      "name": "python"
    }
  },
  "nbformat": 4,
  "nbformat_minor": 0
}