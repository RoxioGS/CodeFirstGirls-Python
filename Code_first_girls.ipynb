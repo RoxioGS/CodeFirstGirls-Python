{
  "nbformat": 4,
  "nbformat_minor": 0,
  "metadata": {
    "colab": {
      "provenance": [],
      "authorship_tag": "ABX9TyNb1FWyq1+tunZaGNoVOyC9",
      "include_colab_link": true
    },
    "kernelspec": {
      "name": "python3",
      "display_name": "Python 3"
    },
    "language_info": {
      "name": "python"
    }
  },
  "cells": [
    {
      "cell_type": "markdown",
      "metadata": {
        "id": "view-in-github",
        "colab_type": "text"
      },
      "source": [
        "<a href=\"https://colab.research.google.com/github/RoxioGS/CodeFirstGirls-Python/blob/main/Code_first_girls.ipynb\" target=\"_parent\"><img src=\"https://colab.research.google.com/assets/colab-badge.svg\" alt=\"Open In Colab\"/></a>"
      ]
    },
    {
      "cell_type": "markdown",
      "source": [],
      "metadata": {
        "id": "rre2lCBM3YEj"
      }
    },
    {
      "cell_type": "markdown",
      "source": [
        "Today´s session will be focused in:\n",
        "-Lists and dictionaries\n",
        "-Functions (len, max and min, sorted,list, reversed).\n",
        "-Append method\n",
        "-In operator\n"
      ],
      "metadata": {
        "id": "5Qs8D9ii3o40"
      }
    },
    {
      "cell_type": "code",
      "source": [
        "carrots = input('How many carrots do you have? ')\n",
        "rabbits = 6\n",
        "\n",
        "if rabbits < carrots:\n",
        "    print('There are not enough carrots')\n",
        "if rabbits > carrots:\n",
        "    print('There are too many carrots')\n",
        "else:\n",
        "    print('You have the right number of carrots')"
      ],
      "metadata": {
        "colab": {
          "base_uri": "https://localhost:8080/",
          "height": 380
        },
        "id": "5srG9bCI6882",
        "outputId": "4ba5888d-3fe1-4b68-91f5-6022af981a02"
      },
      "execution_count": null,
      "outputs": [
        {
          "output_type": "error",
          "ename": "KeyboardInterrupt",
          "evalue": "ignored",
          "traceback": [
            "\u001b[0;31m---------------------------------------------------------------------------\u001b[0m",
            "\u001b[0;31mKeyboardInterrupt\u001b[0m                         Traceback (most recent call last)",
            "\u001b[0;32m<ipython-input-20-b3ac1176b791>\u001b[0m in \u001b[0;36m<cell line: 1>\u001b[0;34m()\u001b[0m\n\u001b[0;32m----> 1\u001b[0;31m \u001b[0mcarrots\u001b[0m \u001b[0;34m=\u001b[0m \u001b[0minput\u001b[0m\u001b[0;34m(\u001b[0m\u001b[0;34m'How many carrots do you have? '\u001b[0m\u001b[0;34m)\u001b[0m\u001b[0;34m\u001b[0m\u001b[0;34m\u001b[0m\u001b[0m\n\u001b[0m\u001b[1;32m      2\u001b[0m \u001b[0mrabbits\u001b[0m \u001b[0;34m=\u001b[0m \u001b[0;36m6\u001b[0m\u001b[0;34m\u001b[0m\u001b[0;34m\u001b[0m\u001b[0m\n\u001b[1;32m      3\u001b[0m \u001b[0;34m\u001b[0m\u001b[0m\n\u001b[1;32m      4\u001b[0m \u001b[0;32mif\u001b[0m \u001b[0mrabbits\u001b[0m \u001b[0;34m<\u001b[0m \u001b[0mcarrots\u001b[0m\u001b[0;34m:\u001b[0m\u001b[0;34m\u001b[0m\u001b[0;34m\u001b[0m\u001b[0m\n\u001b[1;32m      5\u001b[0m     \u001b[0mprint\u001b[0m\u001b[0;34m(\u001b[0m\u001b[0;34m'There are not enough carrots'\u001b[0m\u001b[0;34m)\u001b[0m\u001b[0;34m\u001b[0m\u001b[0;34m\u001b[0m\u001b[0m\n",
            "\u001b[0;32m/usr/local/lib/python3.10/dist-packages/ipykernel/kernelbase.py\u001b[0m in \u001b[0;36mraw_input\u001b[0;34m(self, prompt)\u001b[0m\n\u001b[1;32m    849\u001b[0m                 \u001b[0;34m\"raw_input was called, but this frontend does not support input requests.\"\u001b[0m\u001b[0;34m\u001b[0m\u001b[0;34m\u001b[0m\u001b[0m\n\u001b[1;32m    850\u001b[0m             )\n\u001b[0;32m--> 851\u001b[0;31m         return self._input_request(str(prompt),\n\u001b[0m\u001b[1;32m    852\u001b[0m             \u001b[0mself\u001b[0m\u001b[0;34m.\u001b[0m\u001b[0m_parent_ident\u001b[0m\u001b[0;34m,\u001b[0m\u001b[0;34m\u001b[0m\u001b[0;34m\u001b[0m\u001b[0m\n\u001b[1;32m    853\u001b[0m             \u001b[0mself\u001b[0m\u001b[0;34m.\u001b[0m\u001b[0m_parent_header\u001b[0m\u001b[0;34m,\u001b[0m\u001b[0;34m\u001b[0m\u001b[0;34m\u001b[0m\u001b[0m\n",
            "\u001b[0;32m/usr/local/lib/python3.10/dist-packages/ipykernel/kernelbase.py\u001b[0m in \u001b[0;36m_input_request\u001b[0;34m(self, prompt, ident, parent, password)\u001b[0m\n\u001b[1;32m    893\u001b[0m             \u001b[0;32mexcept\u001b[0m \u001b[0mKeyboardInterrupt\u001b[0m\u001b[0;34m:\u001b[0m\u001b[0;34m\u001b[0m\u001b[0;34m\u001b[0m\u001b[0m\n\u001b[1;32m    894\u001b[0m                 \u001b[0;31m# re-raise KeyboardInterrupt, to truncate traceback\u001b[0m\u001b[0;34m\u001b[0m\u001b[0;34m\u001b[0m\u001b[0m\n\u001b[0;32m--> 895\u001b[0;31m                 \u001b[0;32mraise\u001b[0m \u001b[0mKeyboardInterrupt\u001b[0m\u001b[0;34m(\u001b[0m\u001b[0;34m\"Interrupted by user\"\u001b[0m\u001b[0;34m)\u001b[0m \u001b[0;32mfrom\u001b[0m \u001b[0;32mNone\u001b[0m\u001b[0;34m\u001b[0m\u001b[0;34m\u001b[0m\u001b[0m\n\u001b[0m\u001b[1;32m    896\u001b[0m             \u001b[0;32mexcept\u001b[0m \u001b[0mException\u001b[0m \u001b[0;32mas\u001b[0m \u001b[0me\u001b[0m\u001b[0;34m:\u001b[0m\u001b[0;34m\u001b[0m\u001b[0;34m\u001b[0m\u001b[0m\n\u001b[1;32m    897\u001b[0m                 \u001b[0mself\u001b[0m\u001b[0;34m.\u001b[0m\u001b[0mlog\u001b[0m\u001b[0;34m.\u001b[0m\u001b[0mwarning\u001b[0m\u001b[0;34m(\u001b[0m\u001b[0;34m\"Invalid Message:\"\u001b[0m\u001b[0;34m,\u001b[0m \u001b[0mexc_info\u001b[0m\u001b[0;34m=\u001b[0m\u001b[0;32mTrue\u001b[0m\u001b[0;34m)\u001b[0m\u001b[0;34m\u001b[0m\u001b[0;34m\u001b[0m\u001b[0m\n",
            "\u001b[0;31mKeyboardInterrupt\u001b[0m: Interrupted by user"
          ]
        }
      ]
    },
    {
      "cell_type": "code",
      "source": [
        "#lottery_numbers = [14, 20 ,35, 40]\n",
        "#lottery_winners = ['mark', 'sally', 'Hank', 'Jolene']\n",
        "#person = ['Jess', 32]"
      ],
      "metadata": {
        "id": "iq0q3WD43TMb"
      },
      "execution_count": null,
      "outputs": []
    },
    {
      "cell_type": "code",
      "source": [
        "student_name = ['mark', 'sally', 'Hank', 'Jolene']\n",
        "print(student_name[3])"
      ],
      "metadata": {
        "colab": {
          "base_uri": "https://localhost:8080/"
        },
        "id": "nFp481yM3TIq",
        "outputId": "bcc474a3-aa89-4b44-d973-c35c63e5da3a"
      },
      "execution_count": null,
      "outputs": [
        {
          "output_type": "stream",
          "name": "stdout",
          "text": [
            "Jolene\n"
          ]
        }
      ]
    },
    {
      "cell_type": "code",
      "source": [
        "student_name = ['mark', 'sally', 'Hank', 'Jolene']\n",
        "\n",
        "student_name[1] = 'Josh'\n",
        "\n",
        "print(student_name)"
      ],
      "metadata": {
        "colab": {
          "base_uri": "https://localhost:8080/"
        },
        "id": "JW_n7tCF3TGK",
        "outputId": "4211461c-7783-40f2-9999-c300d8b49cde"
      },
      "execution_count": null,
      "outputs": [
        {
          "output_type": "stream",
          "name": "stdout",
          "text": [
            "['mark', 'Josh', 'Hank', 'Jolene']\n"
          ]
        }
      ]
    },
    {
      "cell_type": "code",
      "source": [
        "clothes = [\n",
        "    \"shorts\",\n",
        "    \"shoes\",\n",
        "    \"t-shirt\",\n",
        "]"
      ],
      "metadata": {
        "id": "XPFy9PKR3TEL"
      },
      "execution_count": null,
      "outputs": []
    },
    {
      "cell_type": "markdown",
      "source": [
        "When I'm travelling in the winter I often forget to pack warm clothes. Let's write a program to help me to remember the right clothes.\n",
        "The program should check if the first item in the clothes list is \"shorts\". If it is it should change the value to \"warm coat\"."
      ],
      "metadata": {
        "id": "VqWBqTF-7jF3"
      }
    },
    {
      "cell_type": "code",
      "source": [
        "clothes = [\n",
        "    \"Shorts\",\n",
        "    \"shoes\",\n",
        "    \"t-shirt\",\n",
        "]\n",
        "\n",
        "if clothes[0] == 'shorts' :\n",
        "    clothes[0] = 'warm coat'\n",
        "if clothes[0] == 'Shorts' :\n",
        "    clothes[0] = 'warm coat'\n",
        "\n",
        "print(clothes)"
      ],
      "metadata": {
        "colab": {
          "base_uri": "https://localhost:8080/"
        },
        "id": "9SRP-Vfo3S96",
        "outputId": "3f14b078-3830-457e-8c32-919eaeecadc2"
      },
      "execution_count": null,
      "outputs": [
        {
          "output_type": "stream",
          "name": "stdout",
          "text": [
            "['warm coat', 'shoes', 't-shirt']\n"
          ]
        }
      ]
    },
    {
      "cell_type": "code",
      "source": [
        "lottery_numbers = [14, 20 ,35, 40]\n",
        "\n",
        "print(len(lottery_numbers))// exception"
      ],
      "metadata": {
        "colab": {
          "base_uri": "https://localhost:8080/",
          "height": 218
        },
        "id": "SCnkjsZT3S7q",
        "outputId": "29dfb67c-b6b4-4a2b-ac85-4e9588d32a34"
      },
      "execution_count": null,
      "outputs": [
        {
          "output_type": "stream",
          "name": "stdout",
          "text": [
            "4\n"
          ]
        },
        {
          "output_type": "error",
          "ename": "NameError",
          "evalue": "ignored",
          "traceback": [
            "\u001b[0;31m---------------------------------------------------------------------------\u001b[0m",
            "\u001b[0;31mNameError\u001b[0m                                 Traceback (most recent call last)",
            "\u001b[0;32m<ipython-input-3-66bebc49cfef>\u001b[0m in \u001b[0;36m<cell line: 3>\u001b[0;34m()\u001b[0m\n\u001b[1;32m      1\u001b[0m \u001b[0mlottery_numbers\u001b[0m \u001b[0;34m=\u001b[0m \u001b[0;34m[\u001b[0m\u001b[0;36m14\u001b[0m\u001b[0;34m,\u001b[0m \u001b[0;36m20\u001b[0m \u001b[0;34m,\u001b[0m\u001b[0;36m35\u001b[0m\u001b[0;34m,\u001b[0m \u001b[0;36m40\u001b[0m\u001b[0;34m]\u001b[0m\u001b[0;34m\u001b[0m\u001b[0;34m\u001b[0m\u001b[0m\n\u001b[1;32m      2\u001b[0m \u001b[0;34m\u001b[0m\u001b[0m\n\u001b[0;32m----> 3\u001b[0;31m \u001b[0mprint\u001b[0m\u001b[0;34m(\u001b[0m\u001b[0mlen\u001b[0m\u001b[0;34m(\u001b[0m\u001b[0mlottery_numbers\u001b[0m\u001b[0;34m)\u001b[0m\u001b[0;34m)\u001b[0m\u001b[0;34m//\u001b[0m \u001b[0mexception\u001b[0m\u001b[0;34m\u001b[0m\u001b[0;34m\u001b[0m\u001b[0m\n\u001b[0m",
            "\u001b[0;31mNameError\u001b[0m: name 'exception' is not defined"
          ]
        }
      ]
    },
    {
      "cell_type": "code",
      "source": [
        "#print(len(lottery_numbers))\n",
        "#print(max(lottery_numbers))\n",
        "#print(min(lottery_numbers))"
      ],
      "metadata": {
        "id": "amoFwk7d3S1C"
      },
      "execution_count": null,
      "outputs": []
    },
    {
      "cell_type": "code",
      "source": [
        "lottery_numbers = [20, 14 ,35, 40]\n",
        "\n",
        "#print(max(lottery_numbers))\n",
        "#print(min(lottery_numbers))\n",
        "#print(sorted(lottery_numbers))\n",
        "\n",
        "print(list(reversed(lottery_numbers)))"
      ],
      "metadata": {
        "colab": {
          "base_uri": "https://localhost:8080/"
        },
        "id": "-911C-a9CoX5",
        "outputId": "b367c4ca-be43-48bf-c4da-612d00713708"
      },
      "execution_count": null,
      "outputs": [
        {
          "output_type": "stream",
          "name": "stdout",
          "text": [
            "[40, 35, 14, 20]\n"
          ]
        }
      ]
    },
    {
      "cell_type": "code",
      "source": [
        "lottery_numbers = ['apple' ,'duck' ,'ball']\n",
        "\n",
        "#print(max(lottery_numbers))\n",
        "#print(min(lottery_numbers))\n",
        "print(sorted(lottery_numbers))"
      ],
      "metadata": {
        "colab": {
          "base_uri": "https://localhost:8080/"
        },
        "id": "BKebhD8xCoV6",
        "outputId": "9d287b96-444c-4ada-b0e7-2ae76f1d01f1"
      },
      "execution_count": null,
      "outputs": [
        {
          "output_type": "stream",
          "name": "stdout",
          "text": [
            "['apple', 'ball', 'duck']\n"
          ]
        }
      ]
    },
    {
      "cell_type": "markdown",
      "source": [
        "Make a list of game scores. Using list functions write code to output information of the scores in the following format:\n",
        "\n",
        "Number of scores: 10\n",
        "Highest score: 200\n",
        "Lowest score: 3\n",
        "\n",
        "Output all of the scores in descending order\n",
        "\n",
        "main = ascending\n",
        " Output all of the scores in descending order-extensition"
      ],
      "metadata": {
        "id": "11D7XtIIEFXe"
      }
    },
    {
      "cell_type": "code",
      "source": [
        "student_name = input('which student u looking for?')\n",
        "\n",
        "students = ['halley', 'steve', 'mitch', 'josh']\n",
        "\n",
        "if student_name in students:\n",
        "    print('{} is in the class'.format(student_name))\n",
        "else :\n",
        "    print('{} is not in the class'.format(student_name))"
      ],
      "metadata": {
        "colab": {
          "base_uri": "https://localhost:8080/"
        },
        "id": "FrFIp0X0CoQ6",
        "outputId": "49d8b53b-932e-4997-8d20-eee1fc8a2e25"
      },
      "execution_count": null,
      "outputs": [
        {
          "output_type": "stream",
          "name": "stdout",
          "text": [
            "which student u looking for?mark\n",
            "mark is not in the class\n"
          ]
        }
      ]
    },
    {
      "cell_type": "code",
      "source": [
        "students = ['halley', 'steve', 'mitch', 'josh']\n",
        "student_name = input('which student u looking for?')\n",
        "\n",
        "students.append(student_name)\n",
        "\n",
        "print(sorted(students))"
      ],
      "metadata": {
        "colab": {
          "base_uri": "https://localhost:8080/"
        },
        "id": "5ESJW84KCoOq",
        "outputId": "df551da8-1198-472c-d4ed-50262795e1cd"
      },
      "execution_count": null,
      "outputs": [
        {
          "output_type": "stream",
          "name": "stdout",
          "text": [
            "which student u looking for?steve\n",
            "['halley', 'josh', 'mitch', 'steve', 'steve']\n"
          ]
        }
      ]
    },
    {
      "cell_type": "markdown",
      "source": [
        "Whenever I'm shopping and I buy some bread I always forget to buy butter. Create a list and if 'bread' is in the list, add 'butter' to the shopping list.\n",
        "\n",
        "Try running the program with and without bread in the list to check that your program works.\n",
        "\n",
        "Remember the in operator checks if an item is in a list and the .append() method adds an item to a list."
      ],
      "metadata": {
        "id": "KK1V0mfKJweL"
      }
    },
    {
      "cell_type": "code",
      "source": [
        "shopping_list =[ 'cheese' ,'tarts','carrots']\n",
        "\n",
        "if 'bread' not in shopping_list:\n",
        "    shopping_list.append('butter')\n",
        "\n",
        "print(shopping_list)"
      ],
      "metadata": {
        "colab": {
          "base_uri": "https://localhost:8080/"
        },
        "id": "0XVaviupCoMc",
        "outputId": "3efd49d6-69d6-484e-f7b5-f22b5e1f1a3c"
      },
      "execution_count": null,
      "outputs": [
        {
          "output_type": "stream",
          "name": "stdout",
          "text": [
            "['cheese', 'tarts', 'carrots', 'butter']\n"
          ]
        }
      ]
    },
    {
      "cell_type": "code",
      "source": [
        "shopping_list =[ 'bread' ,'tarts','carrots']\n",
        "\n",
        "if 'bread' in shopping_list:\n",
        "    shopping_list.append('butter')\n",
        "\n",
        "print(shopping_list)"
      ],
      "metadata": {
        "colab": {
          "base_uri": "https://localhost:8080/"
        },
        "id": "ZrsxKynICoJq",
        "outputId": "09f1f222-97a2-4e8a-bc62-a0fb3e826912"
      },
      "execution_count": null,
      "outputs": [
        {
          "output_type": "stream",
          "name": "stdout",
          "text": [
            "['bread', 'tarts', 'carrots', 'butter']\n"
          ]
        }
      ]
    },
    {
      "cell_type": "markdown",
      "source": [
        "Counting the total number of items in a list using a for loop"
      ],
      "metadata": {
        "id": "DjHngJO3N36o"
      }
    },
    {
      "cell_type": "code",
      "source": [
        "students = ['halley', 'steve', 'mitch', 'josh']\n",
        "count = 0\n",
        "\n",
        "#Counting the total number\n",
        "# of items in a list using a for loop\n",
        "\n",
        "for students in students:\n",
        "    count = count + 1\n",
        "\n",
        "\n",
        "print(count)"
      ],
      "metadata": {
        "colab": {
          "base_uri": "https://localhost:8080/"
        },
        "id": "o71ndSYSCoGK",
        "outputId": "e52c96a9-8c93-46c1-f65d-7500a521e5fa"
      },
      "execution_count": null,
      "outputs": [
        {
          "output_type": "stream",
          "name": "stdout",
          "text": [
            "4\n"
          ]
        }
      ]
    },
    {
      "cell_type": "code",
      "source": [
        "student_names = ['Diedre', 'Hank', 'Helena', 'Salome']\n",
        "\n",
        "for student_name in student_names:\n",
        "    print(student_name)"
      ],
      "metadata": {
        "colab": {
          "base_uri": "https://localhost:8080/"
        },
        "id": "QxBmzGRdORu9",
        "outputId": "6e04c1d4-3eef-4854-8722-ae021ff8e71f"
      },
      "execution_count": null,
      "outputs": [
        {
          "output_type": "stream",
          "name": "stdout",
          "text": [
            "Diedre\n",
            "Hank\n",
            "Helena\n",
            "Salome\n"
          ]
        }
      ]
    },
    {
      "cell_type": "markdown",
      "source": [
        "Exercise 4.4: I want to work out how much money I've spent on lunch this week. I've created a list of what I spent each day.\n",
        "\n",
        "Write a program that uses a for loop to calculate the total cost\n",
        "\n",
        "costs = [8.30, 7.12, 5.01, 1.00, 0.99, 5.92, 3.50]\n",
        "total_cost = 0"
      ],
      "metadata": {
        "id": "S5R_U59-OtjV"
      }
    },
    {
      "cell_type": "code",
      "source": [],
      "metadata": {
        "id": "AxyrhM_SOvmx"
      },
      "execution_count": null,
      "outputs": []
    },
    {
      "cell_type": "code",
      "source": [
        "person = {\n",
        "    'name': 'Jessica',\n",
        "    'age': 23,\n",
        "    'height': 172\n",
        "}"
      ],
      "metadata": {
        "id": "Q5utGLMdOwNF"
      },
      "execution_count": null,
      "outputs": []
    },
    {
      "cell_type": "code",
      "source": [
        "person = {\n",
        "    'name': 'Jessica',\n",
        "    'age': 23,\n",
        "    'height': 172\n",
        "}\n",
        "\n",
        "print(person['name'])"
      ],
      "metadata": {
        "colab": {
          "base_uri": "https://localhost:8080/"
        },
        "id": "9QTVeDdMOwJH",
        "outputId": "b33b8dba-3cbf-4903-d128-1a3520b6956a"
      },
      "execution_count": null,
      "outputs": [
        {
          "output_type": "stream",
          "name": "stdout",
          "text": [
            "Jessica\n"
          ]
        }
      ]
    },
    {
      "cell_type": "code",
      "source": [
        "place = {\n",
        "    'name': 'The Anchor',\n",
        "    'post_code': 'E14 6HY',\n",
        "    'street_number': '54',\n",
        "    'location': {\n",
        "        'longitude': 127,\n",
        "        'latitude': 63,\n",
        "    }\n",
        "}"
      ],
      "metadata": {
        "id": "3vX9kVAfOwFh"
      },
      "execution_count": null,
      "outputs": []
    },
    {
      "cell_type": "markdown",
      "source": [
        "Print the values of name, post_code and street_number from the dictionary"
      ],
      "metadata": {
        "id": "-IOwMCjYPkVL"
      }
    },
    {
      "cell_type": "code",
      "source": [
        "place = {\n",
        "    'name': 'The Anchor',\n",
        "    'post_code': 'E14 6HY',\n",
        "    'street_number': '54',\n",
        "    'location': {\n",
        "        'longitude': 127,\n",
        "        'latitude': 63,\n",
        "    }\n",
        "}\n",
        "print(place['name'])\n",
        "print(place['post_code'])\n",
        "print(place['street_number'])\n",
        "\n",
        "location = place['location']\n",
        "print(location['longitude'])"
      ],
      "metadata": {
        "colab": {
          "base_uri": "https://localhost:8080/"
        },
        "id": "5oKUKx4TOwCj",
        "outputId": "eec0b8cc-b961-4e7e-ee80-828cafbd6820"
      },
      "execution_count": null,
      "outputs": [
        {
          "output_type": "stream",
          "name": "stdout",
          "text": [
            "The Anchor\n",
            "E14 6HY\n",
            "54\n",
            "127\n"
          ]
        }
      ]
    },
    {
      "cell_type": "code",
      "source": [
        "people = [\n",
        "    {'name': 'Jessica', 'age': 23 },\n",
        "    {'name': 'Sneha', 'age': 22}\n",
        "]"
      ],
      "metadata": {
        "id": "gYab4SldRNdp"
      },
      "execution_count": null,
      "outputs": []
    },
    {
      "cell_type": "code",
      "source": [
        "people = [\n",
        "    {'name': 'Jessica', 'age': 23},\n",
        "    {'name': 'Sneha', 'age': 22}\n",
        "]\n",
        "\n",
        "for person in people:\n",
        "    print(person['name'])\n",
        "    print(person['age'])"
      ],
      "metadata": {
        "colab": {
          "base_uri": "https://localhost:8080/"
        },
        "id": "tvQz-ahARn_s",
        "outputId": "c0a309b9-021b-48ae-a594-04047d6dbfab"
      },
      "execution_count": null,
      "outputs": [
        {
          "output_type": "stream",
          "name": "stdout",
          "text": [
            "Jessica\n",
            "23\n",
            "Sneha\n",
            "22\n"
          ]
        }
      ]
    },
    {
      "cell_type": "markdown",
      "source": [
        "Using a for loop, output the values name, colour and price of each dictionary in the list"
      ],
      "metadata": {
        "id": "9jhyW8I7RzVp"
      }
    },
    {
      "cell_type": "code",
      "source": [
        "import random\n",
        "colours = ['red' , 'blue' ,'green', 'purple']\n",
        "rand_col = random.choice(colours)\n",
        "\n",
        "print(rand_col)"
      ],
      "metadata": {
        "colab": {
          "base_uri": "https://localhost:8080/"
        },
        "id": "CuyGLL_1R1b9",
        "outputId": "f70c18bc-406a-4cd2-b889-997ceb3856f7"
      },
      "execution_count": null,
      "outputs": [
        {
          "output_type": "stream",
          "name": "stdout",
          "text": [
            "red\n"
          ]
        }
      ]
    },
    {
      "cell_type": "code",
      "source": [
        "people = [\n",
        "    {'name': 'Jessica', 'age': 23},\n",
        "    {'name': 'Sneha', 'age': 22}\n",
        "]\n",
        "\n",
        "for person in people:\n",
        "    print(person['name'])\n",
        "    print(person['age'])\n",
        "\n",
        " #Using a for loop, output the values name, #\n",
        "# colour and price of each dictionary in the list\n",
        "fruits = [\n",
        "    {'name': 'apple', 'colour': 'red', 'price': 0.12},\n",
        "    {'name': 'banana', 'colour': 'yellow', 'price': 0.2},\n",
        "    {'name': 'pear', 'colour': 'green', 'price': 0.19},\n",
        "]\n",
        "\n",
        "for fruit in fruits:\n",
        "    print(fruit['name'])\n",
        "    print(fruit['colour'])\n",
        "    print(fruit['price'])"
      ],
      "metadata": {
        "colab": {
          "base_uri": "https://localhost:8080/"
        },
        "id": "7pTMp7dJTHHl",
        "outputId": "7c05f7de-0118-41d5-b659-f71746fa1c41"
      },
      "execution_count": null,
      "outputs": [
        {
          "output_type": "stream",
          "name": "stdout",
          "text": [
            "Jessica\n",
            "23\n",
            "Sneha\n",
            "22\n",
            "apple\n",
            "red\n",
            "0.12\n",
            "banana\n",
            "yellow\n",
            "0.2\n",
            "pear\n",
            "green\n",
            "0.19\n"
          ]
        }
      ]
    }
  ]
}