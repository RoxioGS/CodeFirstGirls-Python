{
  "nbformat": 4,
  "nbformat_minor": 0,
  "metadata": {
    "colab": {
      "provenance": [],
      "authorship_tag": "ABX9TyMhdrd0PLL0sMaQiBYgjkfo",
      "include_colab_link": true
    },
    "kernelspec": {
      "name": "python3",
      "display_name": "Python 3"
    },
    "language_info": {
      "name": "python"
    }
  },
  "cells": [
    {
      "cell_type": "markdown",
      "metadata": {
        "id": "view-in-github",
        "colab_type": "text"
      },
      "source": [
        "<a href=\"https://colab.research.google.com/github/RoxioGS/CodeFirstGirls-Python/blob/main/Untitled5.ipynb\" target=\"_parent\"><img src=\"https://colab.research.google.com/assets/colab-badge.svg\" alt=\"Open In Colab\"/></a>"
      ]
    },
    {
      "cell_type": "code",
      "execution_count": null,
      "metadata": {
        "id": "-s4IWWU3-FvL"
      },
      "outputs": [],
      "source": [
        "In this class we wre focused on Files, PIP and API's"
      ]
    },
    {
      "cell_type": "code",
      "source": [
        "Starter: How do I output the species values for each of the dictionaries?\n",
        "\n",
        "[\n",
        "    {'species': 'zebra', 'name': 'Penelope'},\n",
        "    {'species': 'penguin', 'name': 'Jenn'},\n",
        "    {'species': 'elephant', 'name': 'Harris'},\n",
        "    {'species': 'flamingo', 'name': 'Florence'},\n",
        "]"
      ],
      "metadata": {
        "colab": {
          "base_uri": "https://localhost:8080/"
        },
        "id": "vR06140J-G-g",
        "outputId": "ecda380e-e619-4bc4-a43d-0f519994d6ae"
      },
      "execution_count": 1,
      "outputs": [
        {
          "output_type": "stream",
          "name": "stdout",
          "text": [
            "Object `dictionaries` not found.\n"
          ]
        },
        {
          "output_type": "execute_result",
          "data": {
            "text/plain": [
              "[{'species': 'zebra', 'name': 'Penelope'},\n",
              " {'species': 'penguin', 'name': 'Jenn'},\n",
              " {'species': 'elephant', 'name': 'Harris'},\n",
              " {'species': 'flamingo', 'name': 'Florence'}]"
            ]
          },
          "metadata": {},
          "execution_count": 1
        }
      ]
    },
    {
      "cell_type": "code",
      "source": [
        "new_item = input('Enter a to-do item: ')\n",
        "\n",
        "with open('todo.txt', 'r') as todo_file:\n",
        "    todo = todo_file.read()\n",
        "\n",
        "todo = todo + new_item + '\\n'\n",
        "\n",
        "with open('todo.txt', 'w+') as todo_file:\n",
        "    todo_file.write(todo)"
      ],
      "metadata": {
        "id": "hExFICkU-G7w"
      },
      "execution_count": null,
      "outputs": []
    },
    {
      "cell_type": "code",
      "source": [
        "new_item = input('Enter a to-do item: ')\n",
        "\n",
        "with open('todo.txt', 'a') as todo_file:\n",
        "    todo_file.write(new_item + '\\n')"
      ],
      "metadata": {
        "id": "ocZXA8H2-G49"
      },
      "execution_count": null,
      "outputs": []
    },
    {
      "cell_type": "code",
      "source": [
        "spreadsheet = # Add code to open the csv file\n",
        "\n",
        "heights = []\n",
        "\n",
        "for row in spreadsheet:\n",
        "    tree_height = row['height']\n",
        "    heights.append(tree_height)\n",
        "\n",
        "shortest_height = min(heights)\n",
        "print(shortest_height)"
      ],
      "metadata": {
        "id": "ac26v_JZ-G1s"
      },
      "execution_count": null,
      "outputs": []
    },
    {
      "cell_type": "code",
      "source": [
        "import requests\n",
        "from pprint import pprint\n",
        "\n",
        "pokemon_number = input(\"What is the Pokemon's ID? \")\n",
        "\n",
        "url = '\n",
        "https://pokeapi.co/api/v2/pokemon/{}/\n",
        "'.format(pokemon_number)\n",
        "\n",
        "response = requests.get(url)\n",
        "print(response)\n",
        "\n",
        "pokemon = response.json()\n",
        "pprint(pokemon)v"
      ],
      "metadata": {
        "id": "zXFkOHQC-Gyt"
      },
      "execution_count": null,
      "outputs": []
    },
    {
      "cell_type": "code",
      "source": [],
      "metadata": {
        "id": "JOkTfWwO-Gvs"
      },
      "execution_count": null,
      "outputs": []
    },
    {
      "cell_type": "code",
      "source": [],
      "metadata": {
        "id": "qrQY5hEi-Gmn"
      },
      "execution_count": null,
      "outputs": []
    }
  ]
}